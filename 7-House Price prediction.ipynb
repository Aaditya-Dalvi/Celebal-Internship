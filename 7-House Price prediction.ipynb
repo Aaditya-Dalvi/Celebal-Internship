{
 "cells": [
  {
   "cell_type": "code",
   "execution_count": 79,
   "id": "0c449701-9225-4f66-8ab1-b5f108ff14b0",
   "metadata": {},
   "outputs": [],
   "source": [
    "import numpy as np\n",
    "import pandas as pd\n",
    "import matplotlib.pyplot as plt\n",
    "plt.style.use('ggplot')\n",
    "import seaborn as sns\n",
    "from scipy import stats\n",
    "\n",
    "from sklearn.feature_selection import mutual_info_regression\n",
    "from sklearn.model_selection import train_test_split\n",
    "from category_encoders import MEstimateEncoder\n",
    "\n",
    "from sklearn.linear_model import LinearRegression\n",
    "from sklearn.model_selection import cross_val_score\n",
    "\n",
    "from sklearn.metrics import mean_absolute_error,r2_score,root_mean_squared_error\n",
    "\n",
    "# Ignore Warnings\n",
    "import warnings\n",
    "warnings.filterwarnings(\"ignore\")"
   ]
  },
  {
   "cell_type": "code",
   "execution_count": 80,
   "id": "16bcb8fd-4b63-4eea-a056-eb3c614a0c57",
   "metadata": {},
   "outputs": [
    {
     "name": "stdout",
     "output_type": "stream",
     "text": [
      "(4600, 18)\n"
     ]
    },
    {
     "data": {
      "text/html": [
       "<div>\n",
       "<style scoped>\n",
       "    .dataframe tbody tr th:only-of-type {\n",
       "        vertical-align: middle;\n",
       "    }\n",
       "\n",
       "    .dataframe tbody tr th {\n",
       "        vertical-align: top;\n",
       "    }\n",
       "\n",
       "    .dataframe thead th {\n",
       "        text-align: right;\n",
       "    }\n",
       "</style>\n",
       "<table border=\"1\" class=\"dataframe\">\n",
       "  <thead>\n",
       "    <tr style=\"text-align: right;\">\n",
       "      <th></th>\n",
       "      <th>date</th>\n",
       "      <th>price</th>\n",
       "      <th>bedrooms</th>\n",
       "      <th>bathrooms</th>\n",
       "      <th>sqft_living</th>\n",
       "      <th>sqft_lot</th>\n",
       "      <th>floors</th>\n",
       "      <th>waterfront</th>\n",
       "      <th>view</th>\n",
       "      <th>condition</th>\n",
       "      <th>sqft_above</th>\n",
       "      <th>sqft_basement</th>\n",
       "      <th>yr_built</th>\n",
       "      <th>yr_renovated</th>\n",
       "      <th>street</th>\n",
       "      <th>city</th>\n",
       "      <th>statezip</th>\n",
       "      <th>country</th>\n",
       "    </tr>\n",
       "  </thead>\n",
       "  <tbody>\n",
       "    <tr>\n",
       "      <th>4595</th>\n",
       "      <td>2014-07-09 00:00:00</td>\n",
       "      <td>308166.666667</td>\n",
       "      <td>3.0</td>\n",
       "      <td>1.75</td>\n",
       "      <td>1510</td>\n",
       "      <td>6360</td>\n",
       "      <td>1.0</td>\n",
       "      <td>0</td>\n",
       "      <td>0</td>\n",
       "      <td>4</td>\n",
       "      <td>1510</td>\n",
       "      <td>0</td>\n",
       "      <td>1954</td>\n",
       "      <td>1979</td>\n",
       "      <td>501 N 143rd St</td>\n",
       "      <td>Seattle</td>\n",
       "      <td>WA 98133</td>\n",
       "      <td>USA</td>\n",
       "    </tr>\n",
       "    <tr>\n",
       "      <th>4596</th>\n",
       "      <td>2014-07-09 00:00:00</td>\n",
       "      <td>534333.333333</td>\n",
       "      <td>3.0</td>\n",
       "      <td>2.50</td>\n",
       "      <td>1460</td>\n",
       "      <td>7573</td>\n",
       "      <td>2.0</td>\n",
       "      <td>0</td>\n",
       "      <td>0</td>\n",
       "      <td>3</td>\n",
       "      <td>1460</td>\n",
       "      <td>0</td>\n",
       "      <td>1983</td>\n",
       "      <td>2009</td>\n",
       "      <td>14855 SE 10th Pl</td>\n",
       "      <td>Bellevue</td>\n",
       "      <td>WA 98007</td>\n",
       "      <td>USA</td>\n",
       "    </tr>\n",
       "    <tr>\n",
       "      <th>4597</th>\n",
       "      <td>2014-07-09 00:00:00</td>\n",
       "      <td>416904.166667</td>\n",
       "      <td>3.0</td>\n",
       "      <td>2.50</td>\n",
       "      <td>3010</td>\n",
       "      <td>7014</td>\n",
       "      <td>2.0</td>\n",
       "      <td>0</td>\n",
       "      <td>0</td>\n",
       "      <td>3</td>\n",
       "      <td>3010</td>\n",
       "      <td>0</td>\n",
       "      <td>2009</td>\n",
       "      <td>0</td>\n",
       "      <td>759 Ilwaco Pl NE</td>\n",
       "      <td>Renton</td>\n",
       "      <td>WA 98059</td>\n",
       "      <td>USA</td>\n",
       "    </tr>\n",
       "    <tr>\n",
       "      <th>4598</th>\n",
       "      <td>2014-07-10 00:00:00</td>\n",
       "      <td>203400.000000</td>\n",
       "      <td>4.0</td>\n",
       "      <td>2.00</td>\n",
       "      <td>2090</td>\n",
       "      <td>6630</td>\n",
       "      <td>1.0</td>\n",
       "      <td>0</td>\n",
       "      <td>0</td>\n",
       "      <td>3</td>\n",
       "      <td>1070</td>\n",
       "      <td>1020</td>\n",
       "      <td>1974</td>\n",
       "      <td>0</td>\n",
       "      <td>5148 S Creston St</td>\n",
       "      <td>Seattle</td>\n",
       "      <td>WA 98178</td>\n",
       "      <td>USA</td>\n",
       "    </tr>\n",
       "    <tr>\n",
       "      <th>4599</th>\n",
       "      <td>2014-07-10 00:00:00</td>\n",
       "      <td>220600.000000</td>\n",
       "      <td>3.0</td>\n",
       "      <td>2.50</td>\n",
       "      <td>1490</td>\n",
       "      <td>8102</td>\n",
       "      <td>2.0</td>\n",
       "      <td>0</td>\n",
       "      <td>0</td>\n",
       "      <td>4</td>\n",
       "      <td>1490</td>\n",
       "      <td>0</td>\n",
       "      <td>1990</td>\n",
       "      <td>0</td>\n",
       "      <td>18717 SE 258th St</td>\n",
       "      <td>Covington</td>\n",
       "      <td>WA 98042</td>\n",
       "      <td>USA</td>\n",
       "    </tr>\n",
       "  </tbody>\n",
       "</table>\n",
       "</div>"
      ],
      "text/plain": [
       "                     date          price  bedrooms  bathrooms  sqft_living  \\\n",
       "4595  2014-07-09 00:00:00  308166.666667       3.0       1.75         1510   \n",
       "4596  2014-07-09 00:00:00  534333.333333       3.0       2.50         1460   \n",
       "4597  2014-07-09 00:00:00  416904.166667       3.0       2.50         3010   \n",
       "4598  2014-07-10 00:00:00  203400.000000       4.0       2.00         2090   \n",
       "4599  2014-07-10 00:00:00  220600.000000       3.0       2.50         1490   \n",
       "\n",
       "      sqft_lot  floors  waterfront  view  condition  sqft_above  \\\n",
       "4595      6360     1.0           0     0          4        1510   \n",
       "4596      7573     2.0           0     0          3        1460   \n",
       "4597      7014     2.0           0     0          3        3010   \n",
       "4598      6630     1.0           0     0          3        1070   \n",
       "4599      8102     2.0           0     0          4        1490   \n",
       "\n",
       "      sqft_basement  yr_built  yr_renovated             street       city  \\\n",
       "4595              0      1954          1979     501 N 143rd St    Seattle   \n",
       "4596              0      1983          2009   14855 SE 10th Pl   Bellevue   \n",
       "4597              0      2009             0   759 Ilwaco Pl NE     Renton   \n",
       "4598           1020      1974             0  5148 S Creston St    Seattle   \n",
       "4599              0      1990             0  18717 SE 258th St  Covington   \n",
       "\n",
       "      statezip country  \n",
       "4595  WA 98133     USA  \n",
       "4596  WA 98007     USA  \n",
       "4597  WA 98059     USA  \n",
       "4598  WA 98178     USA  \n",
       "4599  WA 98042     USA  "
      ]
     },
     "execution_count": 80,
     "metadata": {},
     "output_type": "execute_result"
    }
   ],
   "source": [
    "df = pd.read_csv('Houses_Data.csv')\n",
    "print(df.shape)\n",
    "df.tail()"
   ]
  },
  {
   "cell_type": "code",
   "execution_count": 81,
   "id": "2ce4b191-1546-4819-bca9-e44cb4f44030",
   "metadata": {},
   "outputs": [
    {
     "name": "stdout",
     "output_type": "stream",
     "text": [
      "<class 'pandas.core.frame.DataFrame'>\n",
      "RangeIndex: 4600 entries, 0 to 4599\n",
      "Data columns (total 18 columns):\n",
      " #   Column         Non-Null Count  Dtype  \n",
      "---  ------         --------------  -----  \n",
      " 0   date           4600 non-null   object \n",
      " 1   price          4600 non-null   float64\n",
      " 2   bedrooms       4600 non-null   float64\n",
      " 3   bathrooms      4600 non-null   float64\n",
      " 4   sqft_living    4600 non-null   int64  \n",
      " 5   sqft_lot       4600 non-null   int64  \n",
      " 6   floors         4600 non-null   float64\n",
      " 7   waterfront     4600 non-null   int64  \n",
      " 8   view           4600 non-null   int64  \n",
      " 9   condition      4600 non-null   int64  \n",
      " 10  sqft_above     4600 non-null   int64  \n",
      " 11  sqft_basement  4600 non-null   int64  \n",
      " 12  yr_built       4600 non-null   int64  \n",
      " 13  yr_renovated   4600 non-null   int64  \n",
      " 14  street         4600 non-null   object \n",
      " 15  city           4600 non-null   object \n",
      " 16  statezip       4600 non-null   object \n",
      " 17  country        4600 non-null   object \n",
      "dtypes: float64(4), int64(9), object(5)\n",
      "memory usage: 647.0+ KB\n"
     ]
    }
   ],
   "source": [
    "df.info()"
   ]
  },
  {
   "cell_type": "code",
   "execution_count": 82,
   "id": "82044398-ae25-4bf6-80d3-03f2c0008e57",
   "metadata": {},
   "outputs": [
    {
     "data": {
      "text/html": [
       "<div>\n",
       "<style scoped>\n",
       "    .dataframe tbody tr th:only-of-type {\n",
       "        vertical-align: middle;\n",
       "    }\n",
       "\n",
       "    .dataframe tbody tr th {\n",
       "        vertical-align: top;\n",
       "    }\n",
       "\n",
       "    .dataframe thead th {\n",
       "        text-align: right;\n",
       "    }\n",
       "</style>\n",
       "<table border=\"1\" class=\"dataframe\">\n",
       "  <thead>\n",
       "    <tr style=\"text-align: right;\">\n",
       "      <th></th>\n",
       "      <th>price</th>\n",
       "      <th>bedrooms</th>\n",
       "      <th>bathrooms</th>\n",
       "      <th>sqft_living</th>\n",
       "      <th>sqft_lot</th>\n",
       "      <th>floors</th>\n",
       "      <th>waterfront</th>\n",
       "      <th>view</th>\n",
       "      <th>condition</th>\n",
       "      <th>sqft_above</th>\n",
       "      <th>sqft_basement</th>\n",
       "      <th>yr_built</th>\n",
       "      <th>yr_renovated</th>\n",
       "    </tr>\n",
       "  </thead>\n",
       "  <tbody>\n",
       "    <tr>\n",
       "      <th>count</th>\n",
       "      <td>4.600000e+03</td>\n",
       "      <td>4600.000000</td>\n",
       "      <td>4600.000000</td>\n",
       "      <td>4600.000000</td>\n",
       "      <td>4.600000e+03</td>\n",
       "      <td>4600.000000</td>\n",
       "      <td>4600.000000</td>\n",
       "      <td>4600.000000</td>\n",
       "      <td>4600.000000</td>\n",
       "      <td>4600.000000</td>\n",
       "      <td>4600.000000</td>\n",
       "      <td>4600.000000</td>\n",
       "      <td>4600.000000</td>\n",
       "    </tr>\n",
       "    <tr>\n",
       "      <th>mean</th>\n",
       "      <td>5.519630e+05</td>\n",
       "      <td>3.400870</td>\n",
       "      <td>2.160815</td>\n",
       "      <td>2139.346957</td>\n",
       "      <td>1.485252e+04</td>\n",
       "      <td>1.512065</td>\n",
       "      <td>0.007174</td>\n",
       "      <td>0.240652</td>\n",
       "      <td>3.451739</td>\n",
       "      <td>1827.265435</td>\n",
       "      <td>312.081522</td>\n",
       "      <td>1970.786304</td>\n",
       "      <td>808.608261</td>\n",
       "    </tr>\n",
       "    <tr>\n",
       "      <th>std</th>\n",
       "      <td>5.638347e+05</td>\n",
       "      <td>0.908848</td>\n",
       "      <td>0.783781</td>\n",
       "      <td>963.206916</td>\n",
       "      <td>3.588444e+04</td>\n",
       "      <td>0.538288</td>\n",
       "      <td>0.084404</td>\n",
       "      <td>0.778405</td>\n",
       "      <td>0.677230</td>\n",
       "      <td>862.168977</td>\n",
       "      <td>464.137228</td>\n",
       "      <td>29.731848</td>\n",
       "      <td>979.414536</td>\n",
       "    </tr>\n",
       "    <tr>\n",
       "      <th>min</th>\n",
       "      <td>0.000000e+00</td>\n",
       "      <td>0.000000</td>\n",
       "      <td>0.000000</td>\n",
       "      <td>370.000000</td>\n",
       "      <td>6.380000e+02</td>\n",
       "      <td>1.000000</td>\n",
       "      <td>0.000000</td>\n",
       "      <td>0.000000</td>\n",
       "      <td>1.000000</td>\n",
       "      <td>370.000000</td>\n",
       "      <td>0.000000</td>\n",
       "      <td>1900.000000</td>\n",
       "      <td>0.000000</td>\n",
       "    </tr>\n",
       "    <tr>\n",
       "      <th>25%</th>\n",
       "      <td>3.228750e+05</td>\n",
       "      <td>3.000000</td>\n",
       "      <td>1.750000</td>\n",
       "      <td>1460.000000</td>\n",
       "      <td>5.000750e+03</td>\n",
       "      <td>1.000000</td>\n",
       "      <td>0.000000</td>\n",
       "      <td>0.000000</td>\n",
       "      <td>3.000000</td>\n",
       "      <td>1190.000000</td>\n",
       "      <td>0.000000</td>\n",
       "      <td>1951.000000</td>\n",
       "      <td>0.000000</td>\n",
       "    </tr>\n",
       "    <tr>\n",
       "      <th>50%</th>\n",
       "      <td>4.609435e+05</td>\n",
       "      <td>3.000000</td>\n",
       "      <td>2.250000</td>\n",
       "      <td>1980.000000</td>\n",
       "      <td>7.683000e+03</td>\n",
       "      <td>1.500000</td>\n",
       "      <td>0.000000</td>\n",
       "      <td>0.000000</td>\n",
       "      <td>3.000000</td>\n",
       "      <td>1590.000000</td>\n",
       "      <td>0.000000</td>\n",
       "      <td>1976.000000</td>\n",
       "      <td>0.000000</td>\n",
       "    </tr>\n",
       "    <tr>\n",
       "      <th>75%</th>\n",
       "      <td>6.549625e+05</td>\n",
       "      <td>4.000000</td>\n",
       "      <td>2.500000</td>\n",
       "      <td>2620.000000</td>\n",
       "      <td>1.100125e+04</td>\n",
       "      <td>2.000000</td>\n",
       "      <td>0.000000</td>\n",
       "      <td>0.000000</td>\n",
       "      <td>4.000000</td>\n",
       "      <td>2300.000000</td>\n",
       "      <td>610.000000</td>\n",
       "      <td>1997.000000</td>\n",
       "      <td>1999.000000</td>\n",
       "    </tr>\n",
       "    <tr>\n",
       "      <th>max</th>\n",
       "      <td>2.659000e+07</td>\n",
       "      <td>9.000000</td>\n",
       "      <td>8.000000</td>\n",
       "      <td>13540.000000</td>\n",
       "      <td>1.074218e+06</td>\n",
       "      <td>3.500000</td>\n",
       "      <td>1.000000</td>\n",
       "      <td>4.000000</td>\n",
       "      <td>5.000000</td>\n",
       "      <td>9410.000000</td>\n",
       "      <td>4820.000000</td>\n",
       "      <td>2014.000000</td>\n",
       "      <td>2014.000000</td>\n",
       "    </tr>\n",
       "  </tbody>\n",
       "</table>\n",
       "</div>"
      ],
      "text/plain": [
       "              price     bedrooms    bathrooms   sqft_living      sqft_lot  \\\n",
       "count  4.600000e+03  4600.000000  4600.000000   4600.000000  4.600000e+03   \n",
       "mean   5.519630e+05     3.400870     2.160815   2139.346957  1.485252e+04   \n",
       "std    5.638347e+05     0.908848     0.783781    963.206916  3.588444e+04   \n",
       "min    0.000000e+00     0.000000     0.000000    370.000000  6.380000e+02   \n",
       "25%    3.228750e+05     3.000000     1.750000   1460.000000  5.000750e+03   \n",
       "50%    4.609435e+05     3.000000     2.250000   1980.000000  7.683000e+03   \n",
       "75%    6.549625e+05     4.000000     2.500000   2620.000000  1.100125e+04   \n",
       "max    2.659000e+07     9.000000     8.000000  13540.000000  1.074218e+06   \n",
       "\n",
       "            floors   waterfront         view    condition   sqft_above  \\\n",
       "count  4600.000000  4600.000000  4600.000000  4600.000000  4600.000000   \n",
       "mean      1.512065     0.007174     0.240652     3.451739  1827.265435   \n",
       "std       0.538288     0.084404     0.778405     0.677230   862.168977   \n",
       "min       1.000000     0.000000     0.000000     1.000000   370.000000   \n",
       "25%       1.000000     0.000000     0.000000     3.000000  1190.000000   \n",
       "50%       1.500000     0.000000     0.000000     3.000000  1590.000000   \n",
       "75%       2.000000     0.000000     0.000000     4.000000  2300.000000   \n",
       "max       3.500000     1.000000     4.000000     5.000000  9410.000000   \n",
       "\n",
       "       sqft_basement     yr_built  yr_renovated  \n",
       "count    4600.000000  4600.000000   4600.000000  \n",
       "mean      312.081522  1970.786304    808.608261  \n",
       "std       464.137228    29.731848    979.414536  \n",
       "min         0.000000  1900.000000      0.000000  \n",
       "25%         0.000000  1951.000000      0.000000  \n",
       "50%         0.000000  1976.000000      0.000000  \n",
       "75%       610.000000  1997.000000   1999.000000  \n",
       "max      4820.000000  2014.000000   2014.000000  "
      ]
     },
     "execution_count": 82,
     "metadata": {},
     "output_type": "execute_result"
    }
   ],
   "source": [
    "df.describe()"
   ]
  },
  {
   "cell_type": "code",
   "execution_count": 83,
   "id": "4bfc2247-7052-40c8-873e-10d8540cdbe0",
   "metadata": {},
   "outputs": [
    {
     "data": {
      "text/plain": [
       "array(['USA'], dtype=object)"
      ]
     },
     "execution_count": 83,
     "metadata": {},
     "output_type": "execute_result"
    }
   ],
   "source": [
    "df['country'].unique()"
   ]
  },
  {
   "cell_type": "markdown",
   "id": "cde90114-7bdd-4571-8e23-dbf32910db97",
   "metadata": {},
   "source": [
    "##### We can drop the 'country' column as it contains only single unique value which is 'USA'."
   ]
  },
  {
   "cell_type": "code",
   "execution_count": 84,
   "id": "26c5d402-cb89-446a-9dfd-363cd31e34f9",
   "metadata": {},
   "outputs": [],
   "source": [
    "df.drop(columns=['country'],axis=1,inplace= True)"
   ]
  },
  {
   "cell_type": "markdown",
   "id": "f9b3a413-ea9f-434c-9bfe-0418cee771c8",
   "metadata": {},
   "source": [
    "## Analyzing price column"
   ]
  },
  {
   "cell_type": "code",
   "execution_count": 85,
   "id": "f66484ba-d52a-4516-8295-56f43f367388",
   "metadata": {},
   "outputs": [
    {
     "data": {
      "image/png": "[encoded data removed]",
      "text/plain": [
       "<Figure size 640x480 with 1 Axes>"
      ]
     },
     "metadata": {},
     "output_type": "display_data"
    }
   ],
   "source": [
    "sns.kdeplot(df['price'].apply(np.log1p), fill=True)\n",
    "plt.show()"
   ]
  },
  {
   "cell_type": "markdown",
   "id": "279aa049-fd0a-46e9-a6b3-5f7697041810",
   "metadata": {},
   "source": [
    "- Plot is **left-skewed**, which means there are outliers.\n",
    "- **Outliers** can either be a mistake or just **variance**. To address the outliers we have plenty of methods available.\n",
    "- Here we will use **z-score**."
   ]
  },
  {
   "cell_type": "code",
   "execution_count": 86,
   "id": "db4004fb-deae-48e2-9615-84c4f824d62b",
   "metadata": {},
   "outputs": [],
   "source": [
    "def make_mi_score(x,y):\n",
    "    x = x.copy()\n",
    "    for colname in x.select_dtypes(['object','category']):\n",
    "        x[colname], _ = x[colname].factorize()\n",
    "        \n",
    "    discrete_features = [pd.api.types.is_integer_dtype(t) for t in x.dtypes]\n",
    "    mi_score = mutual_info_regression(x, y, discrete_features=discrete_features, random_state=42)\n",
    "    mi_score = pd.Series(mi_score, name='Mutual Information Score', index=x.columns)\n",
    "    mi_score = mi_score.sort_values(ascending=False)\n",
    "    return mi_score"
   ]
  },
  {
   "cell_type": "code",
   "execution_count": 87,
   "id": "63dc7a96-30e4-4ebd-863f-3939a79d6076",
   "metadata": {},
   "outputs": [
    {
     "data": {
      "text/plain": [
       "street           1.187259\n",
       "statezip         0.453802\n",
       "city             0.315389\n",
       "sqft_living      0.298434\n",
       "sqft_above       0.200396\n",
       "bathrooms        0.184815\n",
       "sqft_lot         0.145104\n",
       "bedrooms         0.080524\n",
       "yr_built         0.075527\n",
       "floors           0.053934\n",
       "view             0.050866\n",
       "sqft_basement    0.046252\n",
       "yr_renovated     0.011067\n",
       "waterfront       0.005997\n",
       "date             0.005088\n",
       "condition        0.001126\n",
       "Name: Mutual Information Score, dtype: float64"
      ]
     },
     "execution_count": 87,
     "metadata": {},
     "output_type": "execute_result"
    }
   ],
   "source": [
    "X = df.drop(columns=['price'])\n",
    "y = df[['price']]\n",
    "\n",
    "mi_score = make_mi_score(X, y)\n",
    "mi_score"
   ]
  },
  {
   "cell_type": "code",
   "execution_count": 88,
   "id": "ea7f3e8d-bf12-4788-895a-94f64d5792d3",
   "metadata": {},
   "outputs": [
    {
     "data": {
      "image/png": "[encoded data removed]",
      "text/plain": [
       "<Figure size 640x480 with 1 Axes>"
      ]
     },
     "metadata": {},
     "output_type": "display_data"
    }
   ],
   "source": [
    "def plot_mi_score(score):\n",
    "    score = score.sort_values(ascending = True)\n",
    "    width = np.arange(len(score))\n",
    "    ticks = list(score.index)\n",
    "    plt.barh(width,score)\n",
    "    plt.yticks(width,ticks)\n",
    "    plt.title('Mutual Information Score')\n",
    "\n",
    "plot_mi_score(mi_score)"
   ]
  },
  {
   "cell_type": "markdown",
   "id": "a5e408e0-e141-49e4-a722-56c6b603c07f",
   "metadata": {},
   "source": [
    "- The 'street' feature has the highest MI score of 1.149118, indicating a strong relationship with the 'price' variable.\n",
    "- The 'country' feature has a MI score of 0.000000, suggesting it has no discernible relationship with the 'price' variable based on Mutual Information."
   ]
  },
  {
   "cell_type": "code",
   "execution_count": 89,
   "id": "d7245198-ec3b-4729-bd4f-405d17164594",
   "metadata": {},
   "outputs": [],
   "source": [
    "df = df[['street','statezip','city','sqft_living','sqft_above','bathrooms','yr_built','sqft_lot','bedrooms']]\n",
    "df = df.join(y)"
   ]
  },
  {
   "cell_type": "markdown",
   "id": "7d2b8196-9078-4c81-86f0-813d636f1b4d",
   "metadata": {},
   "source": [
    "#### Removing Outliers with Z-score¶\n",
    "- While calculating the z-score we rescale and center the data and look for data points which are too far from zero. These data points which are way too far from zero will be trated as the outliers.\n",
    "- In most of the cases a threshold of 3 or -3 is used. If the Z-score value is greater than or less than 3 or -3 respectively, that data points will be defines as outliers."
   ]
  },
  {
   "cell_type": "code",
   "execution_count": 90,
   "id": "030c73f6-a0fd-4f23-a89d-124586dbf599",
   "metadata": {},
   "outputs": [
    {
     "name": "stdout",
     "output_type": "stream",
     "text": [
      "      sqft_living  sqft_above  bathrooms  yr_built  sqft_lot  bedrooms\n",
      "0        0.829971    0.565224   0.843204  0.531014  0.193434  0.441122\n",
      "1        1.568528    1.789559   0.432802  1.674693  0.161718  1.759705\n",
      "2        0.217367    0.119171   0.205201  0.161000  0.080978  0.441122\n",
      "3        0.144686    0.959621   0.113800  0.261913  0.190145  0.441122\n",
      "4        0.206984    0.797222   0.432802  0.175376  0.121306  0.659291\n",
      "...           ...         ...        ...       ...       ...       ...\n",
      "4595     0.653458    0.368025   0.524202  0.564651  0.236689  0.441122\n",
      "4596     0.705374    0.426025   0.432802  0.410840  0.202882  0.441122\n",
      "4597     0.904009    1.371962   0.432802  1.285418  0.218462  0.441122\n",
      "4598     0.051238    0.878421   0.205201  0.108101  0.229164  0.659291\n",
      "4599     0.674224    0.391225   0.432802  0.646303  0.188139  0.441122\n",
      "\n",
      "[4600 rows x 6 columns]\n"
     ]
    }
   ],
   "source": [
    "z = np.abs(stats.zscore(df[['sqft_living','sqft_above','bathrooms','yr_built','sqft_lot','bedrooms']]))\n",
    "print(z)"
   ]
  },
  {
   "cell_type": "code",
   "execution_count": 91,
   "id": "f741042a-5d05-407e-940f-53148bb52596",
   "metadata": {},
   "outputs": [
    {
     "name": "stdout",
     "output_type": "stream",
     "text": [
      "(array([  56,  107,  122,  122,  122,  122,  122,  217,  227,  233,  240,\n",
      "        241,  252,  252,  252,  254,  272,  291,  291,  375,  418,  418,\n",
      "        452,  461,  462,  462,  462,  462,  471,  479,  484,  495,  548,\n",
      "        575,  581,  581,  634,  634,  634,  675,  679,  743,  747,  779,\n",
      "        798,  839,  847,  878,  879,  999, 1017, 1031, 1078, 1089, 1103,\n",
      "       1128, 1130, 1132, 1132, 1182, 1182, 1209, 1209, 1209, 1261, 1265,\n",
      "       1272, 1275, 1275, 1301, 1302, 1302, 1360, 1390, 1406, 1408, 1411,\n",
      "       1417, 1417, 1424, 1455, 1479, 1500, 1539, 1567, 1567, 1571, 1602,\n",
      "       1637, 1644, 1722, 1762, 1786, 1944, 1952, 1952, 1962, 1962, 2005,\n",
      "       2005, 2152, 2155, 2157, 2199, 2226, 2279, 2286, 2286, 2300, 2316,\n",
      "       2328, 2328, 2328, 2365, 2401, 2480, 2551, 2588, 2654, 2654, 2654,\n",
      "       2717, 2725, 2731, 2731, 2731, 2731, 2761, 2761, 2846, 2846, 2855,\n",
      "       2872, 2889, 2917, 2967, 2967, 2967, 2968, 2980, 2980, 3004, 3004,\n",
      "       3004, 3004, 3046, 3056, 3099, 3117, 3122, 3125, 3202, 3202, 3202,\n",
      "       3209, 3209, 3235, 3260, 3346, 3349, 3349, 3353, 3370, 3389, 3402,\n",
      "       3448, 3470, 3487, 3512, 3525, 3559, 3559, 3660, 3671, 3700, 3729,\n",
      "       3729, 3770, 3770, 3770, 3775, 3781, 3894, 3906, 3906, 3911, 3939,\n",
      "       3972, 3980, 4032, 4032, 4061, 4061, 4088, 4091, 4135, 4135, 4135,\n",
      "       4138, 4138, 4138, 4233, 4234, 4243, 4246, 4266, 4273, 4273, 4277,\n",
      "       4283, 4283, 4283, 4353, 4369, 4374, 4383, 4385, 4387, 4398, 4400,\n",
      "       4432, 4432, 4523, 4528, 4575, 4575, 4575]), array([4, 4, 0, 1, 2, 4, 5, 1, 2, 1, 4, 5, 0, 1, 5, 4, 4, 2, 5, 4, 0, 1,\n",
      "       0, 4, 0, 1, 2, 4, 0, 4, 4, 4, 2, 5, 0, 1, 0, 1, 2, 1, 4, 5, 4, 4,\n",
      "       4, 0, 0, 4, 4, 4, 2, 4, 4, 1, 4, 1, 0, 0, 2, 0, 4, 0, 1, 2, 4, 4,\n",
      "       4, 1, 4, 1, 0, 1, 1, 4, 4, 4, 1, 0, 1, 4, 5, 5, 5, 4, 0, 1, 1, 0,\n",
      "       0, 5, 4, 4, 4, 4, 0, 2, 0, 4, 1, 2, 4, 4, 4, 4, 0, 2, 0, 1, 4, 1,\n",
      "       0, 1, 2, 5, 0, 4, 4, 4, 0, 1, 2, 5, 1, 0, 1, 2, 4, 0, 1, 0, 2, 4,\n",
      "       4, 4, 5, 0, 1, 4, 4, 0, 1, 0, 1, 2, 5, 5, 4, 4, 1, 4, 1, 0, 1, 2,\n",
      "       1, 5, 1, 4, 4, 0, 1, 4, 5, 1, 4, 4, 4, 4, 4, 4, 0, 1, 4, 4, 4, 0,\n",
      "       2, 0, 1, 2, 1, 2, 1, 0, 1, 5, 2, 4, 4, 0, 1, 1, 4, 4, 0, 0, 1, 2,\n",
      "       0, 1, 4, 1, 4, 5, 2, 4, 0, 2, 0, 0, 1, 4, 4, 4, 4, 1, 0, 4, 0, 1,\n",
      "       0, 1, 0, 2, 0, 1, 2]))\n"
     ]
    }
   ],
   "source": [
    "print(np.where(z > 3))"
   ]
  },
  {
   "cell_type": "markdown",
   "id": "ea9dfcf9-0a0a-4e69-a1d5-386259546db5",
   "metadata": {},
   "source": [
    "Let's remove the outliers and get the clean data!\n",
    "\n"
   ]
  },
  {
   "cell_type": "code",
   "execution_count": 92,
   "id": "29c3011a-9dbf-48c8-82a7-69c0e50f67d3",
   "metadata": {},
   "outputs": [
    {
     "data": {
      "text/plain": [
       "(4435, 10)"
      ]
     },
     "execution_count": 92,
     "metadata": {},
     "output_type": "execute_result"
    }
   ],
   "source": [
    "df = df[(z < 3).all(axis=1)]\n",
    "df.shape"
   ]
  },
  {
   "cell_type": "code",
   "execution_count": 93,
   "id": "3e54e1c1-7741-4c35-9834-cbde405d4440",
   "metadata": {},
   "outputs": [
    {
     "data": {
      "text/html": [
       "<div>\n",
       "<style scoped>\n",
       "    .dataframe tbody tr th:only-of-type {\n",
       "        vertical-align: middle;\n",
       "    }\n",
       "\n",
       "    .dataframe tbody tr th {\n",
       "        vertical-align: top;\n",
       "    }\n",
       "\n",
       "    .dataframe thead th {\n",
       "        text-align: right;\n",
       "    }\n",
       "</style>\n",
       "<table border=\"1\" class=\"dataframe\">\n",
       "  <thead>\n",
       "    <tr style=\"text-align: right;\">\n",
       "      <th></th>\n",
       "      <th>street</th>\n",
       "      <th>statezip</th>\n",
       "      <th>city</th>\n",
       "      <th>sqft_living</th>\n",
       "      <th>sqft_above</th>\n",
       "      <th>bathrooms</th>\n",
       "      <th>yr_built</th>\n",
       "      <th>sqft_lot</th>\n",
       "      <th>bedrooms</th>\n",
       "      <th>price</th>\n",
       "    </tr>\n",
       "  </thead>\n",
       "  <tbody>\n",
       "    <tr>\n",
       "      <th>0</th>\n",
       "      <td>18810 Densmore Ave N</td>\n",
       "      <td>WA 98133</td>\n",
       "      <td>Shoreline</td>\n",
       "      <td>1340</td>\n",
       "      <td>1340</td>\n",
       "      <td>1.50</td>\n",
       "      <td>1955</td>\n",
       "      <td>7912</td>\n",
       "      <td>3.0</td>\n",
       "      <td>313000.0</td>\n",
       "    </tr>\n",
       "    <tr>\n",
       "      <th>1</th>\n",
       "      <td>709 W Blaine St</td>\n",
       "      <td>WA 98119</td>\n",
       "      <td>Seattle</td>\n",
       "      <td>3650</td>\n",
       "      <td>3370</td>\n",
       "      <td>2.50</td>\n",
       "      <td>1921</td>\n",
       "      <td>9050</td>\n",
       "      <td>5.0</td>\n",
       "      <td>2384000.0</td>\n",
       "    </tr>\n",
       "    <tr>\n",
       "      <th>2</th>\n",
       "      <td>26206-26214 143rd Ave SE</td>\n",
       "      <td>WA 98042</td>\n",
       "      <td>Kent</td>\n",
       "      <td>1930</td>\n",
       "      <td>1930</td>\n",
       "      <td>2.00</td>\n",
       "      <td>1966</td>\n",
       "      <td>11947</td>\n",
       "      <td>3.0</td>\n",
       "      <td>342000.0</td>\n",
       "    </tr>\n",
       "    <tr>\n",
       "      <th>3</th>\n",
       "      <td>857 170th Pl NE</td>\n",
       "      <td>WA 98008</td>\n",
       "      <td>Bellevue</td>\n",
       "      <td>2000</td>\n",
       "      <td>1000</td>\n",
       "      <td>2.25</td>\n",
       "      <td>1963</td>\n",
       "      <td>8030</td>\n",
       "      <td>3.0</td>\n",
       "      <td>420000.0</td>\n",
       "    </tr>\n",
       "    <tr>\n",
       "      <th>4</th>\n",
       "      <td>9105 170th Ave NE</td>\n",
       "      <td>WA 98052</td>\n",
       "      <td>Redmond</td>\n",
       "      <td>1940</td>\n",
       "      <td>1140</td>\n",
       "      <td>2.50</td>\n",
       "      <td>1976</td>\n",
       "      <td>10500</td>\n",
       "      <td>4.0</td>\n",
       "      <td>550000.0</td>\n",
       "    </tr>\n",
       "  </tbody>\n",
       "</table>\n",
       "</div>"
      ],
      "text/plain": [
       "                     street  statezip       city  sqft_living  sqft_above  \\\n",
       "0      18810 Densmore Ave N  WA 98133  Shoreline         1340        1340   \n",
       "1           709 W Blaine St  WA 98119    Seattle         3650        3370   \n",
       "2  26206-26214 143rd Ave SE  WA 98042       Kent         1930        1930   \n",
       "3           857 170th Pl NE  WA 98008   Bellevue         2000        1000   \n",
       "4         9105 170th Ave NE  WA 98052    Redmond         1940        1140   \n",
       "\n",
       "   bathrooms  yr_built  sqft_lot  bedrooms      price  \n",
       "0       1.50      1955      7912       3.0   313000.0  \n",
       "1       2.50      1921      9050       5.0  2384000.0  \n",
       "2       2.00      1966     11947       3.0   342000.0  \n",
       "3       2.25      1963      8030       3.0   420000.0  \n",
       "4       2.50      1976     10500       4.0   550000.0  "
      ]
     },
     "execution_count": 93,
     "metadata": {},
     "output_type": "execute_result"
    }
   ],
   "source": [
    "df.head()"
   ]
  },
  {
   "cell_type": "code",
   "execution_count": 94,
   "id": "16ed5828-1614-4374-8bc5-a88593029421",
   "metadata": {},
   "outputs": [],
   "source": [
    "X = df.drop(columns=['price'])\n",
    "y = df['price']\n"
   ]
  },
  {
   "cell_type": "code",
   "execution_count": 95,
   "id": "208e6e4c-4b66-43cf-b62f-e5889ffa5ffe",
   "metadata": {},
   "outputs": [
    {
     "data": {
      "text/html": [
       "<div>\n",
       "<style scoped>\n",
       "    .dataframe tbody tr th:only-of-type {\n",
       "        vertical-align: middle;\n",
       "    }\n",
       "\n",
       "    .dataframe tbody tr th {\n",
       "        vertical-align: top;\n",
       "    }\n",
       "\n",
       "    .dataframe thead th {\n",
       "        text-align: right;\n",
       "    }\n",
       "</style>\n",
       "<table border=\"1\" class=\"dataframe\">\n",
       "  <thead>\n",
       "    <tr style=\"text-align: right;\">\n",
       "      <th></th>\n",
       "      <th>street</th>\n",
       "      <th>statezip</th>\n",
       "      <th>city</th>\n",
       "      <th>sqft_living</th>\n",
       "      <th>sqft_above</th>\n",
       "      <th>bathrooms</th>\n",
       "      <th>yr_built</th>\n",
       "      <th>sqft_lot</th>\n",
       "      <th>bedrooms</th>\n",
       "    </tr>\n",
       "  </thead>\n",
       "  <tbody>\n",
       "    <tr>\n",
       "      <th>0</th>\n",
       "      <td>18810 Densmore Ave N</td>\n",
       "      <td>WA 98133</td>\n",
       "      <td>Shoreline</td>\n",
       "      <td>1340</td>\n",
       "      <td>1340</td>\n",
       "      <td>1.50</td>\n",
       "      <td>1955</td>\n",
       "      <td>7912</td>\n",
       "      <td>3.0</td>\n",
       "    </tr>\n",
       "    <tr>\n",
       "      <th>1</th>\n",
       "      <td>709 W Blaine St</td>\n",
       "      <td>WA 98119</td>\n",
       "      <td>Seattle</td>\n",
       "      <td>3650</td>\n",
       "      <td>3370</td>\n",
       "      <td>2.50</td>\n",
       "      <td>1921</td>\n",
       "      <td>9050</td>\n",
       "      <td>5.0</td>\n",
       "    </tr>\n",
       "    <tr>\n",
       "      <th>2</th>\n",
       "      <td>26206-26214 143rd Ave SE</td>\n",
       "      <td>WA 98042</td>\n",
       "      <td>Kent</td>\n",
       "      <td>1930</td>\n",
       "      <td>1930</td>\n",
       "      <td>2.00</td>\n",
       "      <td>1966</td>\n",
       "      <td>11947</td>\n",
       "      <td>3.0</td>\n",
       "    </tr>\n",
       "    <tr>\n",
       "      <th>3</th>\n",
       "      <td>857 170th Pl NE</td>\n",
       "      <td>WA 98008</td>\n",
       "      <td>Bellevue</td>\n",
       "      <td>2000</td>\n",
       "      <td>1000</td>\n",
       "      <td>2.25</td>\n",
       "      <td>1963</td>\n",
       "      <td>8030</td>\n",
       "      <td>3.0</td>\n",
       "    </tr>\n",
       "    <tr>\n",
       "      <th>4</th>\n",
       "      <td>9105 170th Ave NE</td>\n",
       "      <td>WA 98052</td>\n",
       "      <td>Redmond</td>\n",
       "      <td>1940</td>\n",
       "      <td>1140</td>\n",
       "      <td>2.50</td>\n",
       "      <td>1976</td>\n",
       "      <td>10500</td>\n",
       "      <td>4.0</td>\n",
       "    </tr>\n",
       "  </tbody>\n",
       "</table>\n",
       "</div>"
      ],
      "text/plain": [
       "                     street  statezip       city  sqft_living  sqft_above  \\\n",
       "0      18810 Densmore Ave N  WA 98133  Shoreline         1340        1340   \n",
       "1           709 W Blaine St  WA 98119    Seattle         3650        3370   \n",
       "2  26206-26214 143rd Ave SE  WA 98042       Kent         1930        1930   \n",
       "3           857 170th Pl NE  WA 98008   Bellevue         2000        1000   \n",
       "4         9105 170th Ave NE  WA 98052    Redmond         1940        1140   \n",
       "\n",
       "   bathrooms  yr_built  sqft_lot  bedrooms  \n",
       "0       1.50      1955      7912       3.0  \n",
       "1       2.50      1921      9050       5.0  \n",
       "2       2.00      1966     11947       3.0  \n",
       "3       2.25      1963      8030       3.0  \n",
       "4       2.50      1976     10500       4.0  "
      ]
     },
     "execution_count": 95,
     "metadata": {},
     "output_type": "execute_result"
    }
   ],
   "source": [
    "X.head()"
   ]
  },
  {
   "cell_type": "code",
   "execution_count": 96,
   "id": "6df36327-bdb4-497b-9d59-d96febeae08e",
   "metadata": {},
   "outputs": [
    {
     "data": {
      "text/html": [
       "<div>\n",
       "<style scoped>\n",
       "    .dataframe tbody tr th:only-of-type {\n",
       "        vertical-align: middle;\n",
       "    }\n",
       "\n",
       "    .dataframe tbody tr th {\n",
       "        vertical-align: top;\n",
       "    }\n",
       "\n",
       "    .dataframe thead th {\n",
       "        text-align: right;\n",
       "    }\n",
       "</style>\n",
       "<table border=\"1\" class=\"dataframe\">\n",
       "  <thead>\n",
       "    <tr style=\"text-align: right;\">\n",
       "      <th></th>\n",
       "      <th>price</th>\n",
       "    </tr>\n",
       "  </thead>\n",
       "  <tbody>\n",
       "    <tr>\n",
       "      <th>0</th>\n",
       "      <td>313000.0</td>\n",
       "    </tr>\n",
       "    <tr>\n",
       "      <th>1</th>\n",
       "      <td>2384000.0</td>\n",
       "    </tr>\n",
       "    <tr>\n",
       "      <th>2</th>\n",
       "      <td>342000.0</td>\n",
       "    </tr>\n",
       "    <tr>\n",
       "      <th>3</th>\n",
       "      <td>420000.0</td>\n",
       "    </tr>\n",
       "    <tr>\n",
       "      <th>4</th>\n",
       "      <td>550000.0</td>\n",
       "    </tr>\n",
       "  </tbody>\n",
       "</table>\n",
       "</div>"
      ],
      "text/plain": [
       "       price\n",
       "0   313000.0\n",
       "1  2384000.0\n",
       "2   342000.0\n",
       "3   420000.0\n",
       "4   550000.0"
      ]
     },
     "execution_count": 96,
     "metadata": {},
     "output_type": "execute_result"
    }
   ],
   "source": [
    "y = pd.DataFrame(y)\n",
    "y['price'] = df['price'].apply(lambda x: '{:.2f}'.format(x))\n",
    "y = y.astype(float)\n",
    "\n",
    "y.head()"
   ]
  },
  {
   "cell_type": "markdown",
   "id": "35597655-ac46-4bd6-8311-7eb805178110",
   "metadata": {},
   "source": [
    "#### Target Encoding\n",
    "We saw in our mutual information score that street, city and zipcodes do affect the pricing of house. And which makes sense from a buyer's perspective as well. Houses belong to an urban area have higher prices compare to the areas which are far from city.\n",
    "\n",
    "So to drive this point home, we should not neglect that features. What we can do is, with the help of target encoding we will encode these features."
   ]
  },
  {
   "cell_type": "code",
   "execution_count": 97,
   "id": "b0fabdfc-b62e-48aa-948f-fd7d9daccdb8",
   "metadata": {},
   "outputs": [],
   "source": [
    "# When using encoders like MEstimateEncoder, transforming both the features (X) and the target variable (y) is necessary because these types\n",
    "# of encoders rely on the relationship between the categorical features and the target variable to create the encoding.\n",
    "encoder = MEstimateEncoder(cols=['street','statezip','city'], m=0.5)\n",
    "X = encoder.fit_transform(X,y)\n",
    "\n",
    "# The values of the actual (y) variable are not altered, instead they are only used to to compute the statistical means necessary for the encoding of\n",
    "# categorical features in (X). The target variable (y) remains unchanged and is used in its original form for training the model after the categorical\n",
    "# features have been encoded."
   ]
  },
  {
   "cell_type": "code",
   "execution_count": 98,
   "id": "fe9839be-0a8c-43ec-b7e7-aef3f0548464",
   "metadata": {},
   "outputs": [
    {
     "data": {
      "text/html": [
       "<div>\n",
       "<style scoped>\n",
       "    .dataframe tbody tr th:only-of-type {\n",
       "        vertical-align: middle;\n",
       "    }\n",
       "\n",
       "    .dataframe tbody tr th {\n",
       "        vertical-align: top;\n",
       "    }\n",
       "\n",
       "    .dataframe thead th {\n",
       "        text-align: right;\n",
       "    }\n",
       "</style>\n",
       "<table border=\"1\" class=\"dataframe\">\n",
       "  <thead>\n",
       "    <tr style=\"text-align: right;\">\n",
       "      <th></th>\n",
       "      <th>street</th>\n",
       "      <th>statezip</th>\n",
       "      <th>city</th>\n",
       "      <th>sqft_living</th>\n",
       "      <th>sqft_above</th>\n",
       "      <th>bathrooms</th>\n",
       "      <th>yr_built</th>\n",
       "      <th>sqft_lot</th>\n",
       "      <th>bedrooms</th>\n",
       "    </tr>\n",
       "  </thead>\n",
       "  <tbody>\n",
       "    <tr>\n",
       "      <th>0</th>\n",
       "      <td>3.859344e+05</td>\n",
       "      <td>375656.132859</td>\n",
       "      <td>421503.366526</td>\n",
       "      <td>1340</td>\n",
       "      <td>1340</td>\n",
       "      <td>1.50</td>\n",
       "      <td>1955</td>\n",
       "      <td>7912</td>\n",
       "      <td>3.0</td>\n",
       "    </tr>\n",
       "    <tr>\n",
       "      <th>1</th>\n",
       "      <td>1.766601e+06</td>\n",
       "      <td>849969.156830</td>\n",
       "      <td>570200.891589</td>\n",
       "      <td>3650</td>\n",
       "      <td>3370</td>\n",
       "      <td>2.50</td>\n",
       "      <td>1921</td>\n",
       "      <td>9050</td>\n",
       "      <td>5.0</td>\n",
       "    </tr>\n",
       "    <tr>\n",
       "      <th>2</th>\n",
       "      <td>4.052677e+05</td>\n",
       "      <td>321296.502183</td>\n",
       "      <td>439062.351704</td>\n",
       "      <td>1930</td>\n",
       "      <td>1930</td>\n",
       "      <td>2.00</td>\n",
       "      <td>1966</td>\n",
       "      <td>11947</td>\n",
       "      <td>3.0</td>\n",
       "    </tr>\n",
       "    <tr>\n",
       "      <th>3</th>\n",
       "      <td>4.572677e+05</td>\n",
       "      <td>605283.972110</td>\n",
       "      <td>794664.954300</td>\n",
       "      <td>2000</td>\n",
       "      <td>1000</td>\n",
       "      <td>2.25</td>\n",
       "      <td>1963</td>\n",
       "      <td>8030</td>\n",
       "      <td>3.0</td>\n",
       "    </tr>\n",
       "    <tr>\n",
       "      <th>4</th>\n",
       "      <td>5.439344e+05</td>\n",
       "      <td>637165.488778</td>\n",
       "      <td>641698.401301</td>\n",
       "      <td>1940</td>\n",
       "      <td>1140</td>\n",
       "      <td>2.50</td>\n",
       "      <td>1976</td>\n",
       "      <td>10500</td>\n",
       "      <td>4.0</td>\n",
       "    </tr>\n",
       "  </tbody>\n",
       "</table>\n",
       "</div>"
      ],
      "text/plain": [
       "         street       statezip           city  sqft_living  sqft_above  \\\n",
       "0  3.859344e+05  375656.132859  421503.366526         1340        1340   \n",
       "1  1.766601e+06  849969.156830  570200.891589         3650        3370   \n",
       "2  4.052677e+05  321296.502183  439062.351704         1930        1930   \n",
       "3  4.572677e+05  605283.972110  794664.954300         2000        1000   \n",
       "4  5.439344e+05  637165.488778  641698.401301         1940        1140   \n",
       "\n",
       "   bathrooms  yr_built  sqft_lot  bedrooms  \n",
       "0       1.50      1955      7912       3.0  \n",
       "1       2.50      1921      9050       5.0  \n",
       "2       2.00      1966     11947       3.0  \n",
       "3       2.25      1963      8030       3.0  \n",
       "4       2.50      1976     10500       4.0  "
      ]
     },
     "execution_count": 98,
     "metadata": {},
     "output_type": "execute_result"
    }
   ],
   "source": [
    "X.head()"
   ]
  },
  {
   "cell_type": "code",
   "execution_count": 99,
   "id": "7b333d1f-529a-4fee-a62d-59e8e5b9b388",
   "metadata": {},
   "outputs": [
    {
     "data": {
      "text/html": [
       "<div>\n",
       "<style scoped>\n",
       "    .dataframe tbody tr th:only-of-type {\n",
       "        vertical-align: middle;\n",
       "    }\n",
       "\n",
       "    .dataframe tbody tr th {\n",
       "        vertical-align: top;\n",
       "    }\n",
       "\n",
       "    .dataframe thead th {\n",
       "        text-align: right;\n",
       "    }\n",
       "</style>\n",
       "<table border=\"1\" class=\"dataframe\">\n",
       "  <thead>\n",
       "    <tr style=\"text-align: right;\">\n",
       "      <th></th>\n",
       "      <th>price</th>\n",
       "    </tr>\n",
       "  </thead>\n",
       "  <tbody>\n",
       "    <tr>\n",
       "      <th>0</th>\n",
       "      <td>313000.0</td>\n",
       "    </tr>\n",
       "    <tr>\n",
       "      <th>1</th>\n",
       "      <td>2384000.0</td>\n",
       "    </tr>\n",
       "    <tr>\n",
       "      <th>2</th>\n",
       "      <td>342000.0</td>\n",
       "    </tr>\n",
       "    <tr>\n",
       "      <th>3</th>\n",
       "      <td>420000.0</td>\n",
       "    </tr>\n",
       "    <tr>\n",
       "      <th>4</th>\n",
       "      <td>550000.0</td>\n",
       "    </tr>\n",
       "  </tbody>\n",
       "</table>\n",
       "</div>"
      ],
      "text/plain": [
       "       price\n",
       "0   313000.0\n",
       "1  2384000.0\n",
       "2   342000.0\n",
       "3   420000.0\n",
       "4   550000.0"
      ]
     },
     "execution_count": 99,
     "metadata": {},
     "output_type": "execute_result"
    }
   ],
   "source": [
    "y.head()"
   ]
  },
  {
   "cell_type": "code",
   "execution_count": 100,
   "id": "552bf939-f721-4430-bddd-9a8d2f40daa0",
   "metadata": {},
   "outputs": [],
   "source": [
    "from sklearn.model_selection import train_test_split\n",
    "X_train, X_test, y_train, y_test = train_test_split(X.values, y.values, test_size=0.2, random_state=42,shuffle=False)"
   ]
  },
  {
   "cell_type": "code",
   "execution_count": 101,
   "id": "a740bd38-5df9-4077-822d-10acdd6833d1",
   "metadata": {},
   "outputs": [
    {
     "data": {
      "text/plain": [
       "((3548, 9), (887, 9))"
      ]
     },
     "execution_count": 101,
     "metadata": {},
     "output_type": "execute_result"
    }
   ],
   "source": [
    "X_train.shape, X_test.shape"
   ]
  },
  {
   "cell_type": "code",
   "execution_count": 104,
   "id": "3ea710f2-0abe-40f0-a72a-b5510c636737",
   "metadata": {},
   "outputs": [
    {
     "name": "stdout",
     "output_type": "stream",
     "text": [
      "Training Accuracy: 99.65554624503532 %\n"
     ]
    }
   ],
   "source": [
    "model = LinearRegression()\n",
    "model.fit(X_train, y_train)\n",
    "\n",
    "cvs = cross_val_score(model, X_train, y_train, cv=10, n_jobs=-1)\n",
    "print(f'Training Accuracy: {cvs.mean() * 100} %')\n",
    "\n",
    "y_pred = model.predict(X_test)\n"
   ]
  },
  {
   "cell_type": "code",
   "execution_count": 105,
   "id": "62504c8a-ff1b-4ccd-9f87-e5dfaf00590b",
   "metadata": {},
   "outputs": [],
   "source": [
    "# from xgboost import XGBRegressor\n",
    "# reg = XGBRegressor()\n",
    "# model = reg.fit(X_train, y_train)\n",
    "# cvs = cross_val_score(model, X_train, y_train, cv=10, n_jobs=-1)\n",
    "# print(f'Training Accuracy: {cvs.mean() * 100} %')\n",
    "\n",
    "# y_pred = model.predict(X_test)"
   ]
  },
  {
   "cell_type": "code",
   "execution_count": 106,
   "id": "d26dfa8f-0079-49be-b099-0c885f2e5700",
   "metadata": {},
   "outputs": [
    {
     "data": {
      "text/plain": [
       "28086.646969970738"
      ]
     },
     "execution_count": 106,
     "metadata": {},
     "output_type": "execute_result"
    }
   ],
   "source": [
    "root_mean_squared_error(y_test,y_pred)"
   ]
  },
  {
   "cell_type": "code",
   "execution_count": 107,
   "id": "a5be2d55-003b-40d5-bea7-8d0cc4d6c601",
   "metadata": {},
   "outputs": [
    {
     "data": {
      "text/plain": [
       "4556.880761282823"
      ]
     },
     "execution_count": 107,
     "metadata": {},
     "output_type": "execute_result"
    }
   ],
   "source": [
    "mean_absolute_error(y_test,y_pred)"
   ]
  },
  {
   "cell_type": "code",
   "execution_count": 108,
   "id": "edd97bb5-0879-4af1-b62b-5a2a3a203e8b",
   "metadata": {},
   "outputs": [
    {
     "name": "stdout",
     "output_type": "stream",
     "text": [
      "R2-score : 99.9257140633257 %\n"
     ]
    }
   ],
   "source": [
    "print(f'R2-score : {r2_score(y_test,y_pred)* 100} %')"
   ]
  },
  {
   "cell_type": "code",
   "execution_count": null,
   "id": "e336e987-4afd-4b7d-9c1f-9bbb3e0a2ac8",
   "metadata": {},
   "outputs": [],
   "source": []
  },
  {
   "cell_type": "markdown",
   "id": "6ff7d28b-a539-46fa-b5f9-d78fe5d6a5a5",
   "metadata": {},
   "source": [
    "### testing some samples"
   ]
  },
  {
   "cell_type": "code",
   "execution_count": 117,
   "id": "1a6a69a5-a125-4a38-b383-e12c2e3e4acb",
   "metadata": {},
   "outputs": [
    {
     "data": {
      "text/plain": [
       "(array([4.10474413e+05, 3.78221239e+05, 4.21503367e+05, 9.60000000e+02,\n",
       "        9.60000000e+02, 1.00000000e+00, 1.95800000e+03, 8.85500000e+03,\n",
       "        3.00000000e+00]),\n",
       " array([349810.]))"
      ]
     },
     "execution_count": 117,
     "metadata": {},
     "output_type": "execute_result"
    }
   ],
   "source": [
    "X_test[0],y_test[0]"
   ]
  },
  {
   "cell_type": "code",
   "execution_count": 118,
   "id": "559ca71a-52e0-4762-9c34-109384b9f54a",
   "metadata": {},
   "outputs": [
    {
     "data": {
      "text/plain": [
       "array([[348074.29495282]])"
      ]
     },
     "execution_count": 118,
     "metadata": {},
     "output_type": "execute_result"
    }
   ],
   "source": [
    "input = np.array([4.10474413e+05, 3.78221239e+05, 4.21503367e+05, 9.60000000e+02,\n",
    "        9.60000000e+02, 1.00000000e+00, 1.95800000e+03, 8.85500000e+03,\n",
    "        3.00000000e+00]).reshape(1,9)\n",
    "model.predict(input)"
   ]
  },
  {
   "cell_type": "markdown",
   "id": "5d458972-0010-4cea-9f09-56cb1819b56d",
   "metadata": {},
   "source": [
    "##### we can see that output of the actual and the predicted values are too closer which ensures our model is working fine."
   ]
  },
  {
   "cell_type": "code",
   "execution_count": null,
   "id": "c2c73279-34f9-49fa-866e-cbe1f6b876d6",
   "metadata": {},
   "outputs": [],
   "source": []
  },
  {
   "cell_type": "code",
   "execution_count": null,
   "id": "60fa0be4-1eae-4939-94c6-1bc7b720c415",
   "metadata": {},
   "outputs": [],
   "source": []
  },
  {
   "cell_type": "code",
   "execution_count": null,
   "id": "1f68628a-2199-49da-b6c3-02e7ded04ae6",
   "metadata": {},
   "outputs": [],
   "source": []
  },
  {
   "cell_type": "code",
   "execution_count": null,
   "id": "76054e97-fc8a-43e6-9f76-bde9f7e4b136",
   "metadata": {},
   "outputs": [],
   "source": []
  },
  {
   "cell_type": "code",
   "execution_count": null,
   "id": "b0afc6c9-5915-4d5d-b3a4-20a57f6da329",
   "metadata": {},
   "outputs": [],
   "source": []
  }
 ],
 "metadata": {
  "kernelspec": {
   "display_name": "Python 3 (ipykernel)",
   "language": "python",
   "name": "python3"
  },
  "language_info": {
   "codemirror_mode": {
    "name": "ipython",
    "version": 3
   },
   "file_extension": ".py",
   "mimetype": "text/x-python",
   "name": "python",
   "nbconvert_exporter": "python",
   "pygments_lexer": "ipython3",
   "version": "3.10.13"
  }
 },
 "nbformat": 4,
 "nbformat_minor": 5
}
